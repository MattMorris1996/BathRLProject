{
 "cells": [
  {
   "cell_type": "code",
   "execution_count": 6,
   "metadata": {
    "collapsed": true
   },
   "outputs": [],
   "source": [
    "import pandas as pd\n",
    "import numpy as np\n",
    "import matplotlib.pyplot as plt\n",
    "import os, os.path\n",
    "import pickle\n",
    "\n",
    "from matplotlib.pyplot import figure\n",
    "\n",
    "figsize=(10, 6)"
   ]
  },
  {
   "cell_type": "code",
   "execution_count": 9,
   "outputs": [
    {
     "name": "stdout",
     "output_type": "stream",
     "text": [
      "20\n",
      "90.0% Solved\n"
     ]
    }
   ],
   "source": [
    "columns = [\n",
    "    'AGENT_ID',\n",
    "    'NTH_EPISODE',\n",
    "    'STEPS_TAKEN',\n",
    "    'TOTAL_REWARD',\n",
    "    'MOVING_AVERAGE_REWARD',\n",
    "    'SOLVED',\n",
    "]\n",
    "\n",
    "path, dirs, files = next(os.walk(\"./data\"))\n",
    "n_agents_ddpg = len(files)\n",
    "\n",
    "print(n_agents_ddpg)\n",
    "ddpg_agent_dfs = []\n",
    "for agent_id in range(n_agents_ddpg):\n",
    "    ddpg_agent_dfs.append(pd.read_pickle('./data/data_ddpg_agent{}.pk1'.format(agent_id)).reset_index(drop=True))\n",
    "\n",
    "solved_ddpg = []\n",
    "not_solved_ddpg = []\n",
    "for agent_id in range(n_agents_ddpg):\n",
    "    if ddpg_agent_dfs[agent_id][ddpg_agent_dfs[agent_id]['SOLVED'] == 1].empty:\n",
    "        not_solved_ddpg.append(agent_id)\n",
    "    else:\n",
    "        solved_ddpg.append(agent_id)\n",
    "\n",
    "number_solved = len(solved_ddpg)\n",
    "\n",
    "percentage_solved_ddpg = (number_solved/n_agents_ddpg)*100\n",
    "\n",
    "print(\"{}% Solved\".format(percentage_solved_ddpg))"
   ],
   "metadata": {
    "collapsed": false,
    "pycharm": {
     "name": "#%%\n"
    }
   }
  },
  {
   "cell_type": "code",
   "execution_count": 8,
   "outputs": [
    {
     "name": "stdout",
     "output_type": "stream",
     "text": [
      "4\n"
     ]
    },
    {
     "ename": "FileNotFoundError",
     "evalue": "[Errno 2] No such file or directory: './data_initial_test/data_ddpg_agent1.pk1'",
     "output_type": "error",
     "traceback": [
      "\u001B[1;31m---------------------------------------------------------------------------\u001B[0m",
      "\u001B[1;31mFileNotFoundError\u001B[0m                         Traceback (most recent call last)",
      "\u001B[1;32m<ipython-input-8-95a78ef82db0>\u001B[0m in \u001B[0;36m<module>\u001B[1;34m\u001B[0m\n\u001B[0;32m      5\u001B[0m \u001B[0mper_agent_dfs\u001B[0m \u001B[1;33m=\u001B[0m \u001B[1;33m[\u001B[0m\u001B[1;33m]\u001B[0m\u001B[1;33m\u001B[0m\u001B[1;33m\u001B[0m\u001B[0m\n\u001B[0;32m      6\u001B[0m \u001B[1;32mfor\u001B[0m \u001B[0magent_id\u001B[0m \u001B[1;32min\u001B[0m \u001B[0mrange\u001B[0m\u001B[1;33m(\u001B[0m\u001B[0mn_agents_per\u001B[0m\u001B[1;33m)\u001B[0m\u001B[1;33m:\u001B[0m\u001B[1;33m\u001B[0m\u001B[1;33m\u001B[0m\u001B[0m\n\u001B[1;32m----> 7\u001B[1;33m     \u001B[0mper_agent_dfs\u001B[0m\u001B[1;33m.\u001B[0m\u001B[0mappend\u001B[0m\u001B[1;33m(\u001B[0m\u001B[0mpd\u001B[0m\u001B[1;33m.\u001B[0m\u001B[0mread_pickle\u001B[0m\u001B[1;33m(\u001B[0m\u001B[1;34m'./data_initial_test/data_ddpg_agent{}.pk1'\u001B[0m\u001B[1;33m.\u001B[0m\u001B[0mformat\u001B[0m\u001B[1;33m(\u001B[0m\u001B[0magent_id\u001B[0m\u001B[1;33m)\u001B[0m\u001B[1;33m)\u001B[0m\u001B[1;33m.\u001B[0m\u001B[0mreset_index\u001B[0m\u001B[1;33m(\u001B[0m\u001B[0mdrop\u001B[0m\u001B[1;33m=\u001B[0m\u001B[1;32mTrue\u001B[0m\u001B[1;33m)\u001B[0m\u001B[1;33m)\u001B[0m\u001B[1;33m\u001B[0m\u001B[1;33m\u001B[0m\u001B[0m\n\u001B[0m\u001B[0;32m      8\u001B[0m \u001B[1;33m\u001B[0m\u001B[0m\n\u001B[0;32m      9\u001B[0m \u001B[0msolved_per\u001B[0m \u001B[1;33m=\u001B[0m \u001B[1;33m[\u001B[0m\u001B[1;33m]\u001B[0m\u001B[1;33m\u001B[0m\u001B[1;33m\u001B[0m\u001B[0m\n",
      "\u001B[1;32m~\\anaconda3\\envs\\BathRLProject\\lib\\site-packages\\pandas\\io\\pickle.py\u001B[0m in \u001B[0;36mread_pickle\u001B[1;34m(filepath_or_buffer, compression, storage_options)\u001B[0m\n\u001B[0;32m    183\u001B[0m     \"\"\"\n\u001B[0;32m    184\u001B[0m     \u001B[0mexcs_to_catch\u001B[0m \u001B[1;33m=\u001B[0m \u001B[1;33m(\u001B[0m\u001B[0mAttributeError\u001B[0m\u001B[1;33m,\u001B[0m \u001B[0mImportError\u001B[0m\u001B[1;33m,\u001B[0m \u001B[0mModuleNotFoundError\u001B[0m\u001B[1;33m,\u001B[0m \u001B[0mTypeError\u001B[0m\u001B[1;33m)\u001B[0m\u001B[1;33m\u001B[0m\u001B[1;33m\u001B[0m\u001B[0m\n\u001B[1;32m--> 185\u001B[1;33m     with get_handle(\n\u001B[0m\u001B[0;32m    186\u001B[0m         \u001B[0mfilepath_or_buffer\u001B[0m\u001B[1;33m,\u001B[0m\u001B[1;33m\u001B[0m\u001B[1;33m\u001B[0m\u001B[0m\n\u001B[0;32m    187\u001B[0m         \u001B[1;34m\"rb\"\u001B[0m\u001B[1;33m,\u001B[0m\u001B[1;33m\u001B[0m\u001B[1;33m\u001B[0m\u001B[0m\n",
      "\u001B[1;32m~\\anaconda3\\envs\\BathRLProject\\lib\\site-packages\\pandas\\io\\common.py\u001B[0m in \u001B[0;36mget_handle\u001B[1;34m(path_or_buf, mode, encoding, compression, memory_map, is_text, errors, storage_options)\u001B[0m\n\u001B[0;32m    649\u001B[0m         \u001B[1;32melse\u001B[0m\u001B[1;33m:\u001B[0m\u001B[1;33m\u001B[0m\u001B[1;33m\u001B[0m\u001B[0m\n\u001B[0;32m    650\u001B[0m             \u001B[1;31m# Binary mode\u001B[0m\u001B[1;33m\u001B[0m\u001B[1;33m\u001B[0m\u001B[1;33m\u001B[0m\u001B[0m\n\u001B[1;32m--> 651\u001B[1;33m             \u001B[0mhandle\u001B[0m \u001B[1;33m=\u001B[0m \u001B[0mopen\u001B[0m\u001B[1;33m(\u001B[0m\u001B[0mhandle\u001B[0m\u001B[1;33m,\u001B[0m \u001B[0mioargs\u001B[0m\u001B[1;33m.\u001B[0m\u001B[0mmode\u001B[0m\u001B[1;33m)\u001B[0m\u001B[1;33m\u001B[0m\u001B[1;33m\u001B[0m\u001B[0m\n\u001B[0m\u001B[0;32m    652\u001B[0m         \u001B[0mhandles\u001B[0m\u001B[1;33m.\u001B[0m\u001B[0mappend\u001B[0m\u001B[1;33m(\u001B[0m\u001B[0mhandle\u001B[0m\u001B[1;33m)\u001B[0m\u001B[1;33m\u001B[0m\u001B[1;33m\u001B[0m\u001B[0m\n\u001B[0;32m    653\u001B[0m \u001B[1;33m\u001B[0m\u001B[0m\n",
      "\u001B[1;31mFileNotFoundError\u001B[0m: [Errno 2] No such file or directory: './data_initial_test/data_ddpg_agent1.pk1'"
     ]
    }
   ],
   "source": [
    "path, dirs, files = next(os.walk(\"./data_initial_test\"))\n",
    "n_agents_per = len(files)\n",
    "\n",
    "print(n_agents_per)\n",
    "per_agent_dfs = []\n",
    "for agent_id in range(n_agents_per):\n",
    "    per_agent_dfs.append(pd.read_pickle('./data_initial_test/data_ddpg_agent{}.pk1'.format(agent_id)).reset_index(drop=True))\n",
    "\n",
    "solved_per = []\n",
    "not_solved_per = []\n",
    "for agent_id in range(n_agents_per):\n",
    "    if per_agent_dfs[agent_id][per_agent_dfs[agent_id]['SOLVED'] == 1].empty:\n",
    "        not_solved_per.append(agent_id)\n",
    "    else:\n",
    "        solved_per.append(agent_id)\n",
    "\n",
    "number_solved = len(solved_per)\n",
    "\n",
    "percentage_solved_per = (number_solved/n_agents_per)*100\n",
    "\n",
    "print(\"{}% Solved\".format(percentage_solved_per))"
   ],
   "metadata": {
    "collapsed": false,
    "pycharm": {
     "name": "#%%\n"
    }
   }
  },
  {
   "cell_type": "code",
   "execution_count": null,
   "outputs": [],
   "source": [
    "for agent_id in solved_ddpg:\n",
    "    ax = ddpg_agent_dfs[agent_id]['TOTAL_REWARD'].plot(\n",
    "        label = \"Agent \" + str(agent_id),\n",
    "        legend=True,\n",
    "        figsize=figsize,\n",
    "        grid = True,\n",
    "        title = \"Plot of solved agents\"\n",
    "    )\n",
    "    ax.set_xlabel(\"EPISODES\")\n",
    "    ax.set_ylabel(\"MOVING_AVERAGE_REWARD\")\n",
    "\n",
    "df = ddpg_agent_dfs[0]['TOTAL_REWARD']\n",
    "ddpg_df = pd.DataFrame(df)\n",
    "\n",
    "for agent_id in solved_ddpg[1:]:\n",
    "    print(agent_id)\n",
    "    name = 'TOTAL_REWARD' + str(agent_id)\n",
    "    ddpg_df[name] = pd.DataFrame(ddpg_agent_dfs[agent_id]['TOTAL_REWARD'])\n",
    "\n",
    "ddpg_df['mean_total_reward'] = ddpg_df.mean(axis=1)\n",
    "ddpg_df"
   ],
   "metadata": {
    "collapsed": false,
    "pycharm": {
     "name": "#%%\n"
    }
   }
  },
  {
   "cell_type": "code",
   "execution_count": null,
   "outputs": [],
   "source": [
    "for agent_id in range(n_agents_per):\n",
    "    ax = per_agent_dfs[agent_id]['TOTAL_REWARD'].plot(\n",
    "        label = \"Agent \" + str(agent_id),\n",
    "        legend=True,\n",
    "        figsize=figsize,\n",
    "        grid = True,\n",
    "        title = \"Plot of solved agents\"\n",
    "    )\n",
    "    ax.set_xlabel(\"EPISODES\")\n",
    "    ax.set_ylabel(\"MOVING_AVERAGE_REWARD\")\n",
    "\n",
    "df = per_agent_dfs[1]['TOTAL_REWARD']\n",
    "per_df = pd.DataFrame(df)\n",
    "\n",
    "per_df"
   ],
   "metadata": {
    "collapsed": false,
    "pycharm": {
     "name": "#%%\n"
    }
   }
  },
  {
   "cell_type": "code",
   "execution_count": null,
   "outputs": [],
   "source": [
    "for agent_id in range(2,n_agents_per-1):\n",
    "    print(agent_id)\n",
    "    name = 'TOTAL_REWARD' + str(agent_id)\n",
    "    per_df[name] = pd.DataFrame(per_agent_dfs[agent_id]['TOTAL_REWARD'])\n",
    "per_df['mean_total_reward'] = per_df.mean(axis=1)"
   ],
   "metadata": {
    "collapsed": false,
    "pycharm": {
     "name": "#%%\n"
    }
   }
  },
  {
   "cell_type": "code",
   "execution_count": null,
   "outputs": [],
   "source": [
    "for agent_id in range(n_agents_ddpg):\n",
    "    ax = ddpg_agent_dfs[agent_id]['SOLVED'].plot(\n",
    "        label = \"Agent \" + str(agent_id),\n",
    "        legend = True,\n",
    "        figsize=figsize,\n",
    "        grid = True\n",
    "    )\n",
    "\n",
    "    ax.set_xlabel(\"EPISODES\")"
   ],
   "metadata": {
    "collapsed": false,
    "pycharm": {
     "name": "#%%\n"
    }
   }
  },
  {
   "cell_type": "code",
   "execution_count": null,
   "outputs": [],
   "source": [
    "ddpg_agent_dfs[1][ddpg_agent_dfs[1]['TOTAL_REWARD'] == min(ddpg_agent_dfs[1]['TOTAL_REWARD'])]"
   ],
   "metadata": {
    "collapsed": false,
    "pycharm": {
     "name": "#%%\n"
    }
   }
  },
  {
   "cell_type": "code",
   "execution_count": null,
   "outputs": [],
   "source": [
    "for agent_id in not_solved_ddpg:\n",
    "    ddpg_agent_dfs[agent_id]['TOTAL_REWARD'].plot(\n",
    "        label = \"Agent \" + str(agent_id),\n",
    "        legend=True,\n",
    "        figsize=figsize,\n",
    "        grid = True,\n",
    "        title=\"Plot of agents which failed to solve\"\n",
    "    )\n"
   ],
   "metadata": {
    "collapsed": false,
    "pycharm": {
     "name": "#%%\n"
    }
   }
  },
  {
   "cell_type": "code",
   "execution_count": null,
   "outputs": [],
   "source": [
    "per_df['mean_total_reward'].plot(\n",
    "    label=\"Priority Experience Replay\",\n",
    "    legend=True\n",
    ")\n",
    "ax = ddpg_df['mean_total_reward'].plot(\n",
    "        figsize=figsize,\n",
    "        grid = True,\n",
    "        title=\"Average Total Reward for DDPG and Priority Experience Replay\",\n",
    "        label=\"DDPG\",\n",
    "        legend=True,\n",
    ")\n",
    "\n",
    "ax.set_xlabel(\"EPISODES\")\n",
    "ax.set_ylabel(\"AVERAGE REWARD\")"
   ],
   "metadata": {
    "collapsed": false,
    "pycharm": {
     "name": "#%%\n"
    }
   }
  }
 ],
 "metadata": {
  "kernelspec": {
   "display_name": "Python 3",
   "language": "python",
   "name": "python3"
  },
  "language_info": {
   "codemirror_mode": {
    "name": "ipython",
    "version": 2
   },
   "file_extension": ".py",
   "mimetype": "text/x-python",
   "name": "python",
   "nbconvert_exporter": "python",
   "pygments_lexer": "ipython2",
   "version": "2.7.6"
  }
 },
 "nbformat": 4,
 "nbformat_minor": 0
}